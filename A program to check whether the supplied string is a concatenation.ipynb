{
 "cells": [
  {
   "cell_type": "code",
   "execution_count": 21,
   "id": "887d71c8",
   "metadata": {},
   "outputs": [],
   "source": [
    "class Solution :\n",
    "    def isItPossible(self,s_tr):\n",
    "        if (len(s_tr)%2!=0):\n",
    "            return 0\n",
    "        else:\n",
    "            j=len(s_tr)//2\n",
    "            for i in range(len(s_tr)//2):\n",
    "                if (s_tr[i]!=s_tr[j]):\n",
    "                    return 0\n",
    "                j +=1\n",
    "            return 1"
   ]
  },
  {
   "cell_type": "code",
   "execution_count": 22,
   "id": "f8d692ed",
   "metadata": {},
   "outputs": [
    {
     "data": {
      "text/plain": [
       "1"
      ]
     },
     "execution_count": 22,
     "metadata": {},
     "output_type": "execute_result"
    }
   ],
   "source": [
    "obj=Solution() #creating object for the class\n",
    "obj.isItPossible(\"abcabc\")"
   ]
  }
 ],
 "metadata": {
  "kernelspec": {
   "display_name": "Python 3",
   "language": "python",
   "name": "python3"
  },
  "language_info": {
   "codemirror_mode": {
    "name": "ipython",
    "version": 3
   },
   "file_extension": ".py",
   "mimetype": "text/x-python",
   "name": "python",
   "nbconvert_exporter": "python",
   "pygments_lexer": "ipython3",
   "version": "3.8.8"
  }
 },
 "nbformat": 4,
 "nbformat_minor": 5
}
